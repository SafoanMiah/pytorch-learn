{
 "cells": [
  {
   "cell_type": "code",
   "execution_count": 1,
   "metadata": {},
   "outputs": [],
   "source": [
    "#import\n",
    "import torch"
   ]
  },
  {
   "cell_type": "code",
   "execution_count": 16,
   "metadata": {},
   "outputs": [
    {
     "data": {
      "text/plain": [
       "(torch.Size([7, 7]),\n",
       " tensor([[0.7097, 0.8759, 0.6007, 0.3747, 0.2941, 0.9243, 0.1348],\n",
       "         [0.1218, 0.4991, 0.0234, 0.4279, 0.2731, 0.6421, 0.9205],\n",
       "         [0.2572, 0.7626, 0.3385, 0.7661, 0.3727, 0.4284, 0.7015],\n",
       "         [0.9441, 0.6767, 0.3881, 0.4034, 0.5061, 0.5801, 0.5940],\n",
       "         [0.6605, 0.5858, 0.1612, 0.8063, 0.9163, 0.0812, 0.0717],\n",
       "         [0.4042, 0.5664, 0.7767, 0.2409, 0.3916, 0.4463, 0.7084],\n",
       "         [0.0604, 0.5134, 0.3058, 0.5896, 0.1246, 0.8533, 0.6117]]))"
      ]
     },
     "execution_count": 16,
     "metadata": {},
     "output_type": "execute_result"
    }
   ],
   "source": [
    "#random tensor\n",
    "random_tensor_1 = torch.rand(size=(7,7))\n",
    "random_tensor_1.shape, random_tensor_1"
   ]
  },
  {
   "cell_type": "code",
   "execution_count": 18,
   "metadata": {},
   "outputs": [
    {
     "data": {
      "text/plain": [
       "tensor([[2.6023],\n",
       "        [1.4833],\n",
       "        [1.9278],\n",
       "        [2.5539],\n",
       "        [2.0427],\n",
       "        [2.1324],\n",
       "        [1.6479]])"
      ]
     },
     "execution_count": 18,
     "metadata": {},
     "output_type": "execute_result"
    }
   ],
   "source": [
    "#random matric multiplication on tensor with another random with shape 1,7, transopose\n",
    "random_tensor_2 = torch.rand(size=(1,7))\n",
    "random_tensor_2.T\n",
    "\n",
    "random_tensor_1.matmul(random_tensor_2.T)"
   ]
  },
  {
   "cell_type": "code",
   "execution_count": 21,
   "metadata": {},
   "outputs": [
    {
     "data": {
      "text/plain": [
       "tensor([[1.8542],\n",
       "        [1.9611],\n",
       "        [2.2884],\n",
       "        [3.0481],\n",
       "        [1.7067],\n",
       "        [2.5290],\n",
       "        [1.7989]])"
      ]
     },
     "execution_count": 21,
     "metadata": {},
     "output_type": "execute_result"
    }
   ],
   "source": [
    "#random seed\n",
    "torch.manual_seed(0)\n",
    "\n",
    "random_tensor_1 = torch.rand(size=(7,7))\n",
    "random_tensor_2 = torch.rand(size=(1,7))\n",
    "\n",
    "random_tensor_1.matmul(random_tensor_2.T)"
   ]
  },
  {
   "cell_type": "code",
   "execution_count": 23,
   "metadata": {},
   "outputs": [],
   "source": [
    "#random GPU seed\n",
    "torch.cuda.manual_seed(1234)"
   ]
  },
  {
   "cell_type": "code",
   "execution_count": 105,
   "metadata": {},
   "outputs": [
    {
     "name": "stdout",
     "output_type": "stream",
     "text": [
      "Device: cpu\n"
     ]
    },
    {
     "data": {
      "text/plain": [
       "(tensor([[0.0290, 0.4019, 0.2598],\n",
       "         [0.3666, 0.0583, 0.7006]]),\n",
       " tensor([[0.0518, 0.4681, 0.6738],\n",
       "         [0.3315, 0.7837, 0.5631]]))"
      ]
     },
     "execution_count": 105,
     "metadata": {},
     "output_type": "execute_result"
    }
   ],
   "source": [
    "torch.manual_seed(1234)\n",
    "\n",
    "device = \"cuda\" if torch.cuda.is_available() else \"cpu\"\n",
    "print(f\"Device: {device}\")\n",
    "\n",
    "# Create two random tensors on GPU\n",
    "tensor_A = torch.rand(size=(2,3)).to(device)\n",
    "tensor_B = torch.rand(size=(2,3)).to(device)\n",
    "tensor_A, tensor_B"
   ]
  },
  {
   "cell_type": "code",
   "execution_count": 112,
   "metadata": {},
   "outputs": [
    {
     "data": {
      "text/plain": [
       "tensor([[0.3647, 0.4709],\n",
       "        [0.5184, 0.5617]])"
      ]
     },
     "execution_count": 112,
     "metadata": {},
     "output_type": "execute_result"
    }
   ],
   "source": [
    "#matmul with transpose for shape error\n",
    "tensor_C = torch.matmul(tensor_A, tensor_B.T)\n",
    "tensor_C"
   ]
  },
  {
   "cell_type": "code",
   "execution_count": 117,
   "metadata": {},
   "outputs": [
    {
     "data": {
      "text/plain": [
       "(tensor(0.5617), tensor(0.3647))"
      ]
     },
     "execution_count": 117,
     "metadata": {},
     "output_type": "execute_result"
    }
   ],
   "source": [
    "#Find min and max\n",
    "tensor_C.max(), tensor_C.min()"
   ]
  },
  {
   "cell_type": "code",
   "execution_count": 119,
   "metadata": {},
   "outputs": [
    {
     "data": {
      "text/plain": [
       "(tensor(3), tensor(0))"
      ]
     },
     "execution_count": 119,
     "metadata": {},
     "output_type": "execute_result"
    }
   ],
   "source": [
    "#Find index\n",
    "tensor_C.argmax(), tensor_C.argmin()"
   ]
  },
  {
   "cell_type": "code",
   "execution_count": 144,
   "metadata": {},
   "outputs": [
    {
     "data": {
      "text/plain": [
       "(tensor([0.4963, 0.7682, 0.0885, 0.1320, 0.3074, 0.6341, 0.4901, 0.8964, 0.4556,\n",
       "         0.6323]),\n",
       " torch.Size([10]))"
      ]
     },
     "execution_count": 144,
     "metadata": {},
     "output_type": "execute_result"
    }
   ],
   "source": [
    "torch.manual_seed(0)\n",
    "\n",
    "tensor = torch.rand(size=(1,1,1,10))\n",
    "\n",
    "#remove single dimentions\n",
    "tensor = tensor.squeeze()\n",
    "\n",
    "tensor, tensor.shape"
   ]
  }
 ],
 "metadata": {
  "kernelspec": {
   "display_name": "base",
   "language": "python",
   "name": "python3"
  },
  "language_info": {
   "codemirror_mode": {
    "name": "ipython",
    "version": 3
   },
   "file_extension": ".py",
   "mimetype": "text/x-python",
   "name": "python",
   "nbconvert_exporter": "python",
   "pygments_lexer": "ipython3",
   "version": "3.11.5"
  }
 },
 "nbformat": 4,
 "nbformat_minor": 2
}
